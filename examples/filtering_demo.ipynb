{
  "cells": [
    {
      "cell_type": "markdown",
      "id": "4f90207d",
      "metadata": {},
      "source": [
        "# Europe PMC Advanced Filtering Example\n",
        "\n",
        "This notebook demonstrates how to use `filter_pmc_papers` to find high-quality scientific papers from Europe PMC using advanced filtering criteria such as citations, MeSH terms, keywords, and abstract content."
      ]
    },
    {
      "cell_type": "code",
      "execution_count": null,
      "id": "d0d05590",
      "metadata": {},
      "outputs": [],
      "source": [
        "from pyeuropepmc import SearchClient, filter_pmc_papers, filter_pmc_papers_or"
      ]
    },
    {
      "cell_type": "markdown",
      "id": "06df14d5",
      "metadata": {},
      "source": [
        "## 1. Perform a Broad Search\n",
        "\n",
        "We start by searching for papers on **cancer immunotherapy**. We use `resultType=\"core\"` to retrieve full metadata, including MeSH terms."
      ]
    },
    {
      "cell_type": "code",
      "execution_count": null,
      "id": "f89ea9ed",
      "metadata": {},
      "outputs": [],
      "source": [
        "client = SearchClient()\n",
        "query = \"cancer immunotherapy\"\n",
        "response = client.search(query, pageSize=500, resultType=\"core\", sort=\"cited DESC\")\n",
        "papers = response.get(\"resultList\", {}).get(\"result\", []) if isinstance(response, dict) else []\n",
        "print(f'Total papers found: {len(papers)}')"
      ]
    },
    {
      "cell_type": "code",
      "execution_count": null,
      "id": "a59f77e2",
      "metadata": {},
      "outputs": [],
      "source": [
        "papers"
      ]
    },
    {
      "cell_type": "markdown",
      "id": "e917b913",
      "metadata": {},
      "source": [
        "## 2. Filter for High-Quality Review Papers\n",
        "\n",
        "- At least 10 citations\n",
        "- Published in 2020 or later\n",
        "- Type: Review or Systematic Review\n",
        "- Open Access"
      ]
    },
    {
      "cell_type": "code",
      "execution_count": null,
      "id": "1f03a9cb",
      "metadata": {},
      "outputs": [],
      "source": [
        "filtered_reviews = filter_pmc_papers(\n",
        "    papers,\n",
        "    min_citations=10,\n",
        "    min_pub_year=2020,\n",
        "    allowed_types=(\"Review\", \"Systematic Review\"),\n",
        "    open_access=\"Y\",\n",
        ")\n",
        "print(f'High-quality reviews found: {len(filtered_reviews)}')\n",
        "if filtered_reviews:\n",
        "    print('First result:')\n",
        "    print(filtered_reviews[0])"
      ]
    },
    {
      "cell_type": "markdown",
      "id": "390e9833",
      "metadata": {},
      "source": [
        "### Example Results\n",
        "\n",
        "Below are the top 3 high-quality review papers found:"
      ]
    },
    {
      "cell_type": "code",
      "execution_count": null,
      "id": "c01f097f",
      "metadata": {},
      "outputs": [],
      "source": [
        "for i, paper in enumerate(filtered_reviews[:3], 1):\n",
        "    print(f\"{i}. {paper['title']}\")\n",
        "    print(f\"   Year: {paper['pubYear']}, Citations: {paper['citedByCount']}\")\n",
        "    print(f\"   Authors: {', '.join(paper['authors'][:3])}\")\n",
        "    if paper['keywords']:\n",
        "        print(f\"   Keywords: {', '.join(paper['keywords'][:5])}\")\n",
        "    print()"
      ]
    },
    {
      "cell_type": "markdown",
      "id": "d32cefa7",
      "metadata": {},
      "source": [
        "## 3. Filter by MeSH Terms: AND vs OR Logic\n",
        "\n",
        "Let's compare AND vs OR logic with MeSH terms.\n",
        "\n",
        "### AND Logic (filter_pmc_papers)\n",
        "Papers must have MeSH terms containing BOTH 'neoplasm' AND 'immuno' (partial, case-insensitive match)."
      ]
    },
    {
      "cell_type": "code",
      "execution_count": null,
      "id": "0b9a01bd",
      "metadata": {},
      "outputs": [],
      "source": [
        "filtered_mesh_and = filter_pmc_papers(\n",
        "    papers,\n",
        "    min_citations=5,\n",
        "    required_mesh={\"neoplasm\", \"immuno\"},\n",
        ")\n",
        "print(f\"Papers with BOTH 'neoplasm' AND 'immuno' MeSH terms (AND logic): {len(filtered_mesh_and)}\")\n",
        "if filtered_mesh_and:\n",
        "    print('First result:')\n",
        "    print(f\"  Title: {filtered_mesh_and[0]['title']}\")\n",
        "    print(f\"  MeSH: {filtered_mesh_and[0].get('meshHeadingList', {}).get('meshHeading', [])[:5]}\")"
      ]
    },
    {
      "cell_type": "code",
      "execution_count": null,
      "id": "a1c6b3c5",
      "metadata": {},
      "outputs": [],
      "source": [
        "filtered_mesh_or = filter_pmc_papers_or(\n",
        "    papers,\n",
        "    min_citations=5,\n",
        "    required_mesh={\"neoplasm\", \"immuno\"},\n",
        ")\n",
        "print(f\"Papers with EITHER 'neoplasm' OR 'immuno' MeSH terms (OR logic): {len(filtered_mesh_or)}\")\n",
        "if filtered_mesh_or:\n",
        "    print('First result:')\n",
        "    print(f\"  Title: {filtered_mesh_or[0]['title']}\")\n",
        "    print(f\"  MeSH: {filtered_mesh_or[0].get('meshHeadingList', {}).get('meshHeading', [])[:5]}\")\n",
        "\n",
        "print(f\"\\nDifference: OR returned {len(filtered_mesh_or) - len(filtered_mesh_and)} more papers than AND\")"
      ]
    },
    {
      "cell_type": "markdown",
      "id": "0ec0c9c4",
      "metadata": {},
      "source": [
        "### OR Logic (filter_pmc_papers_or)\n",
        "Papers can have MeSH terms containing EITHER 'neoplasm' OR 'immuno' (or both). This typically returns more results."
      ]
    },
    {
      "cell_type": "markdown",
      "id": "68e7e188",
      "metadata": {},
      "source": [
        "## 4. Filter by Keywords: AND vs OR Logic\n",
        "\n",
        "### AND Logic\n",
        "Papers must have keywords containing ALL specified terms (e.g., 'cancer')."
      ]
    },
    {
      "cell_type": "code",
      "execution_count": null,
      "id": "e4188d98",
      "metadata": {},
      "outputs": [],
      "source": [
        "filtered_keywords_and = filter_pmc_papers(\n",
        "    papers,\n",
        "    min_citations=5,\n",
        "    required_keywords={\"checkpoint\", \"inhibitor\"},\n",
        ")\n",
        "print(f\"Papers with BOTH 'checkpoint' AND 'inhibitor' keywords (AND logic): {len(filtered_keywords_and)}\")\n",
        "if filtered_keywords_and:\n",
        "    print('First result:')\n",
        "    print(f\"  Title: {filtered_keywords_and[0]['title']}\")\n",
        "    print(f\"  Keywords: {filtered_keywords_and[0].get('keywordList', {}).get('keyword', [])[:5]}\")"
      ]
    },
    {
      "cell_type": "markdown",
      "id": "7e3f9c73",
      "metadata": {},
      "source": [
        "### OR Logic\n",
        "Papers can have keywords containing EITHER 'checkpoint' OR 'inhibitor' (or both)."
      ]
    },
    {
      "cell_type": "code",
      "execution_count": null,
      "id": "6e3f938b",
      "metadata": {},
      "outputs": [],
      "source": [
        "filtered_keywords_or = filter_pmc_papers_or(\n",
        "    papers,\n",
        "    min_citations=5,\n",
        "    required_keywords={\"checkpoint\", \"inhibitor\"},\n",
        ")\n",
        "print(f\"Papers with EITHER 'checkpoint' OR 'inhibitor' keywords (OR logic): {len(filtered_keywords_or)}\")\n",
        "if filtered_keywords_or:\n",
        "    print('First result:')\n",
        "    print(f\"  Title: {filtered_keywords_or[0]['title']}\")\n",
        "    print(f\"  Keywords: {filtered_keywords_or[0].get('keywordList', {}).get('keyword', [])[:5]}\")\n",
        "\n",
        "print(f\"\\nDifference: OR returned {len(filtered_keywords_or) - len(filtered_keywords_and)} more papers than AND\")"
      ]
    },
    {
      "cell_type": "markdown",
      "id": "2e0f4fcf",
      "metadata": {},
      "source": [
        "## 5. Filter by Abstract Content: AND vs OR Logic\n",
        "\n",
        "### AND Logic\n",
        "Papers must have abstracts containing ALL specified terms (e.g., 'immunity' AND 'tumour')."
      ]
    },
    {
      "cell_type": "code",
      "execution_count": null,
      "id": "eb770787",
      "metadata": {},
      "outputs": [],
      "source": [
        "papers[0].get(\"abstractText\")"
      ]
    },
    {
      "cell_type": "code",
      "execution_count": null,
      "id": "952da48c",
      "metadata": {},
      "outputs": [],
      "source": [
        "filtered_abstract_and = filter_pmc_papers(\n",
        "    papers,\n",
        "    min_citations=0,\n",
        "    required_abstract_terms={\"immunity\", \"tumour\"},\n",
        ")\n",
        "print(f\"Papers with BOTH 'immunity' AND 'tumour' in abstract (AND logic): {len(filtered_abstract_and)}\")\n",
        "if filtered_abstract_and:\n",
        "    print('First result:')\n",
        "    print(f\"  Title: {filtered_abstract_and[0]['title']}\")\n",
        "    abstract = filtered_abstract_and[0].get('abstractText', '')[:200]\n",
        "    print(f\"  Abstract preview: {abstract}...\")"
      ]
    },
    {
      "cell_type": "code",
      "execution_count": null,
      "id": "5351ddff",
      "metadata": {},
      "outputs": [],
      "source": [
        "filtered_abstract_or = filter_pmc_papers_or(\n",
        "    papers,\n",
        "    min_citations=0,\n",
        "    required_abstract_terms={\"immunity\", \"tumour\"},\n",
        ")\n",
        "print(f\"Papers with EITHER 'immunity' OR 'tumour' in abstract (OR logic): {len(filtered_abstract_or)}\")\n",
        "if filtered_abstract_or:\n",
        "    print('First result:')\n",
        "    print(f\"  Title: {filtered_abstract_or[0]['title']}\")\n",
        "    abstract = filtered_abstract_or[0].get('abstractText', '')[:200]\n",
        "    print(f\"  Abstract preview: {abstract}...\")\n",
        "\n",
        "print(f\"\\nDifference: OR returned {len(filtered_abstract_or) - len(filtered_abstract_and)} more papers than AND\")"
      ]
    },
    {
      "cell_type": "markdown",
      "id": "7e3409e5",
      "metadata": {},
      "source": [
        "### OR Logic\n",
        "Papers can have abstracts containing EITHER 'immunity' OR 'tumour' (or both)."
      ]
    },
    {
      "cell_type": "markdown",
      "id": "32866a00",
      "metadata": {},
      "source": [
        "## 6. Combine Multiple Filters for Precision\n",
        "\n",
        "- At least 20 citations\n",
        "- Published in 2021 or later\n",
        "- Review or Systematic Review\n",
        "- Open Access\n",
        "- Keyword contains 'immuno'\n",
        "- Abstract contains 'therapy'"
      ]
    },
    {
      "cell_type": "code",
      "execution_count": null,
      "id": "a5bedd7c",
      "metadata": {},
      "outputs": [],
      "source": [
        "filtered_combined = filter_pmc_papers(\n",
        "    papers,\n",
        "    min_citations=20,\n",
        "    min_pub_year=2021,\n",
        "    allowed_types=(\"Review\", \"Systematic Review\"),\n",
        "    open_access=\"Y\",\n",
        "    required_keywords={\"immuno\"},\n",
        "    required_abstract_terms={\"therapy\"},\n",
        ")\n",
        "print(f\"Papers meeting all criteria: {len(filtered_combined)}\")\n",
        "if filtered_combined:\n",
        "    print('First result:')\n",
        "    print(filtered_combined[0])\n",
        "for i, paper in enumerate(filtered_combined[:2], 1):\n",
        "    print(f\"{i}. {paper['title']}\")\n",
        "    print(f\"   Year: {paper['pubYear']}, Citations: {paper['citedByCount']}\")\n",
        "    print(f\"   Type: {paper['pubType']}\")\n",
        "    print(f\"   Open Access: {paper['isOpenAccess']}\")\n",
        "    print(f\"   PMID: {paper.get('pmid', 'N/A')}, DOI: {paper.get('doi', 'N/A')}\")\n",
        "    print()"
      ]
    },
    {
      "cell_type": "markdown",
      "id": "0cc34c20",
      "metadata": {},
      "source": [
        "## Summary Statistics"
      ]
    },
    {
      "cell_type": "code",
      "execution_count": null,
      "id": "eb6c2748",
      "metadata": {},
      "outputs": [],
      "source": [
        "print('Summary:')\n",
        "print(f'Total papers found: {len(papers)}')\n",
        "print(f'High-quality reviews: {len(filtered_reviews)}')\n",
        "print(f'\\nAND Logic Results:')\n",
        "print(f'  Papers with MeSH (AND): {len(filtered_mesh_and)}')\n",
        "print(f'  Papers with keywords (AND): {len(filtered_keywords_and)}')\n",
        "print(f'  Papers with abstract terms (AND): {len(filtered_abstract_and)}')\n",
        "print(f'  Papers meeting all criteria (AND): {len(filtered_combined)}')\n",
        "print(f'\\nOR Logic Results:')\n",
        "print(f'  Papers with MeSH (OR): {len(filtered_mesh_or)}')\n",
        "print(f'  Papers with keywords (OR): {len(filtered_keywords_or)}')\n",
        "print(f'  Papers with abstract terms (OR): {len(filtered_abstract_or)}')"
      ]
    },
    {
      "cell_type": "markdown",
      "id": "929e73cb",
      "metadata": {},
      "source": [
        "## Filtering Tips\n",
        "\n",
        "1. **AND vs OR Logic:**\n",
        "   - Use `filter_pmc_papers` (AND) for precise, specific results where all criteria must match\n",
        "   - Use `filter_pmc_papers_or` (OR) for broad, exploratory searches where any criteria can match\n",
        "   \n",
        "2. **Partial Matching:** Both functions use partial, case-insensitive matching (e.g., 'immuno' matches 'immunotherapy').\n",
        "\n",
        "3. **Combining Filters:** Combine multiple criteria to narrow results to high-quality papers.\n",
        "\n",
        "4. **Citation Thresholds:** Adjust `min_citations` based on your field (some fields have lower citation rates).\n",
        "\n",
        "5. **Full Metadata:** Use `resultType='core'` to get MeSH terms and full metadata in your search.\n",
        "\n",
        "6. **MeSH vs Keywords:** MeSH terms are more standardized than keywords for biomedical topics.\n",
        "\n",
        "7. **Multi-Criteria OR:** When using `filter_pmc_papers_or` with multiple criteria types (e.g., MeSH + keywords + abstract), a paper matches if it satisfies ANY of the criteria sets."
      ]
    }
  ],
  "metadata": {
    "kernelspec": {
      "display_name": "pyeuropepmc-py3.10",
      "language": "python",
      "name": "python3"
    },
    "language_info": {
      "codemirror_mode": {
        "name": "ipython",
        "version": 3
      },
      "file_extension": ".py",
      "mimetype": "text/x-python",
      "name": "python",
      "nbconvert_exporter": "python",
      "pygments_lexer": "ipython3",
      "version": "3.10.13"
    }
  },
  "nbformat": 4,
  "nbformat_minor": 5
}
